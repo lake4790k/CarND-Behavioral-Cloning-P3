{
 "cells": [
  {
   "cell_type": "code",
   "execution_count": null,
   "metadata": {
    "collapsed": false
   },
   "outputs": [],
   "source": [
    "import tensorflow as tf\n",
    "from keras.backend.tensorflow_backend import set_session\n",
    "config = tf.ConfigProto()\n",
    "config.gpu_options.per_process_gpu_memory_fraction = 0.2\n",
    "set_session(tf.Session(config=config))"
   ]
  },
  {
   "cell_type": "code",
   "execution_count": null,
   "metadata": {
    "collapsed": false,
    "deletable": true,
    "editable": true
   },
   "outputs": [],
   "source": [
    "import pandas as pd\n",
    "import matplotlib.pyplot as plt\n",
    "import random\n",
    "import cv2\n",
    "import seaborn as sns\n",
    "import numpy as np\n",
    "%matplotlib inline\n",
    "from model import ModelBuilder, load_samples"
   ]
  },
  {
   "cell_type": "code",
   "execution_count": null,
   "metadata": {
    "collapsed": true
   },
   "outputs": [],
   "source": [
    "#https://d17h27t6h515a5.cloudfront.net/topher/2016/December/584f6edd_data/data.zip"
   ]
  },
  {
   "cell_type": "code",
   "execution_count": null,
   "metadata": {
    "collapsed": false,
    "deletable": true,
    "editable": true
   },
   "outputs": [],
   "source": [
    "path='data/'\n",
    "log=pd.read_csv(path+'driving_log.csv', names=['c','l','r','angle','throttle','break','speed'])"
   ]
  },
  {
   "cell_type": "code",
   "execution_count": null,
   "metadata": {
    "collapsed": false,
    "deletable": true,
    "editable": true
   },
   "outputs": [],
   "source": [
    "log.head()"
   ]
  },
  {
   "cell_type": "code",
   "execution_count": null,
   "metadata": {
    "collapsed": false
   },
   "outputs": [],
   "source": [
    "nvidia= ModelBuilder.nvidia_model()\n",
    "nvidia.load_weights('nvidia.hd5')"
   ]
  },
  {
   "cell_type": "code",
   "execution_count": null,
   "metadata": {
    "collapsed": false
   },
   "outputs": [],
   "source": [
    "num_samples = len(log.c)\n",
    "batch_size=32\n",
    "def generator():\n",
    "    while True:\n",
    "        for offset in range(0, num_samples, batch_size):\n",
    "            batch_samples = log.c[offset:offset+batch_size]\n",
    "            images = []\n",
    "            for batch_sample in batch_samples:\n",
    "                file = batch_sample.split('/')[-1]\n",
    "                file = path+'/IMG/' + file\n",
    "                img = cv2.imread(file)\n",
    "                images.append(img)\n",
    "\n",
    "            X = np.array(images)\n",
    "            yield X\n",
    "    \n",
    "pred = nvidia.predict_generator(generator(), val_samples=num_samples)"
   ]
  },
  {
   "cell_type": "code",
   "execution_count": null,
   "metadata": {
    "collapsed": false
   },
   "outputs": [],
   "source": [
    "plt.figure(figsize=[16,3])\n",
    "plt.plot(log.angle)\n",
    "#plt.plot(pred);\n",
    "plt.figure(figsize=[16,3])\n",
    "dp = sns.distplot(log.angle, bins=100, kde=False);\n",
    "#dp.figure.get_axes()[0].set_yscale('log')"
   ]
  },
  {
   "cell_type": "code",
   "execution_count": null,
   "metadata": {
    "collapsed": false,
    "deletable": true,
    "editable": true
   },
   "outputs": [],
   "source": [
    "n = 5\n",
    "fig = plt.figure(figsize=[16,n*2])\n",
    "for i in range(n):\n",
    "    r = random.randint(0,log.shape[0])\n",
    "    for s in range(3):\n",
    "        fig.add_subplot(n,3,1+i*3+s)\n",
    "        file = path + '/IMG/'+ log.iloc[r,s].split('/')[-1]\n",
    "        img = cv2.imread(file)\n",
    "        plt.axis('off')\n",
    "        plt.title(log.iloc[r,3])\n",
    "        plt.imshow(img[..., ::-1], cmap='hsv')"
   ]
  },
  {
   "cell_type": "code",
   "execution_count": null,
   "metadata": {
    "collapsed": true
   },
   "outputs": [],
   "source": []
  }
 ],
 "metadata": {
  "kernelspec": {
   "display_name": "Python 3",
   "language": "python",
   "name": "python3"
  },
  "language_info": {
   "codemirror_mode": {
    "name": "ipython",
    "version": 3
   },
   "file_extension": ".py",
   "mimetype": "text/x-python",
   "name": "python",
   "nbconvert_exporter": "python",
   "pygments_lexer": "ipython3",
   "version": "3.5.2"
  },
  "widgets": {
   "state": {},
   "version": "1.1.2"
  }
 },
 "nbformat": 4,
 "nbformat_minor": 0
}
